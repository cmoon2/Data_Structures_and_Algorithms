{
 "cells": [
  {
   "cell_type": "markdown",
   "metadata": {},
   "source": [
    "# String Compression\n",
    "\n",
    "## Problem\n",
    "\n",
    "Given a string in the form 'AAAABBBBCCCCCDDEEEE' compress it to become 'A4B4C5D2E4'. The function should also be case sensitive, so that a string 'AAAaaa' returns 'A3a3'."
   ]
  },
  {
   "cell_type": "markdown",
   "metadata": {},
   "source": [
    "## Solution"
   ]
  },
  {
   "cell_type": "code",
   "execution_count": 1,
   "metadata": {
    "collapsed": true
   },
   "outputs": [],
   "source": [
    "def str_comp(input_str):\n",
    "    \n",
    "    # Check the length of the input string\n",
    "    if len(input_str) < 1:\n",
    "        return \"\"\n",
    "    \n",
    "    output = prev_letter = \"\"\n",
    "    count = 0\n",
    "    \n",
    "    # For each letter in the string\n",
    "    for letter in input_str:\n",
    "        \n",
    "        # If the current letter is different from the previous letter\n",
    "        if letter != prev_letter:\n",
    "            if prev_letter != \"\":\n",
    "                output += str(count)\n",
    "                \n",
    "            output += str(letter)\n",
    "            count = 1\n",
    "        \n",
    "        # If the current letter is same as the previous one, just increase the count\n",
    "        else:\n",
    "            count += 1\n",
    "        \n",
    "        prev_letter = letter\n",
    "\n",
    "    output += str(count)\n",
    "        \n",
    "    # Return the output\n",
    "    return output"
   ]
  },
  {
   "cell_type": "code",
   "execution_count": 2,
   "metadata": {
    "collapsed": false
   },
   "outputs": [
    {
     "data": {
      "text/plain": [
       "'A4B4C5D2E4'"
      ]
     },
     "execution_count": 2,
     "metadata": {},
     "output_type": "execute_result"
    }
   ],
   "source": [
    "str_comp('AAAABBBBCCCCCDDEEEE')"
   ]
  },
  {
   "cell_type": "markdown",
   "metadata": {},
   "source": [
    "## Complexity\n",
    "\n",
    "O(N)"
   ]
  }
 ],
 "metadata": {
  "kernelspec": {
   "display_name": "Python 2",
   "language": "python",
   "name": "python2"
  },
  "language_info": {
   "codemirror_mode": {
    "name": "ipython",
    "version": 2
   },
   "file_extension": ".py",
   "mimetype": "text/x-python",
   "name": "python",
   "nbconvert_exporter": "python",
   "pygments_lexer": "ipython2",
   "version": "2.7.11"
  }
 },
 "nbformat": 4,
 "nbformat_minor": 0
}
