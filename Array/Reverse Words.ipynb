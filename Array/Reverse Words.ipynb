{
 "cells": [
  {
   "cell_type": "markdown",
   "metadata": {},
   "source": [
    "# Reverse Words\n",
    "\n",
    "## Problem\n",
    "\n",
    "Reverse all the words in a given sentence. For example:\n",
    "\n",
    "Input:\n",
    "    \n",
    "    'Hi Ryan, how are you?'\n",
    "\n",
    "Output:\n",
    "\n",
    "    \"you? are how Ryan, Hi\"\n",
    "\n",
    "\n",
    "\n",
    "Note:\n",
    "Please, remove all leading and trailing whitespaces. For example:\n",
    "\n",
    "    '   space here'  and 'space here   '\n",
    "\n",
    "both become:\n",
    "\n",
    "    'here space'\n",
    "\n",
    "## Solution\n"
   ]
  },
  {
   "cell_type": "code",
   "execution_count": 1,
   "metadata": {
    "collapsed": true
   },
   "outputs": [],
   "source": [
    "def rev_words(input_str):\n",
    "    \n",
    "    # Current word\n",
    "    word = \"\"\n",
    "    # A list of words\n",
    "    words = []\n",
    "    \n",
    "    # For each letter in the input sentence\n",
    "    for l in input_str:\n",
    "        if l == ' ':\n",
    "            \n",
    "            # Append the current word to the list\n",
    "            if word != \"\":\n",
    "                words.append(word)\n",
    "                word = \"\"\n",
    "        else:\n",
    "            # Get the current word\n",
    "            word += l\n",
    "            \n",
    "    # Append the last word to the list\n",
    "    if word != \"\":\n",
    "        words.append(word)\n",
    "        \n",
    "    # Output sentence (Reversed words)\n",
    "    return \" \".join(reversed(words))\n",
    "    "
   ]
  },
  {
   "cell_type": "code",
   "execution_count": 2,
   "metadata": {
    "collapsed": false
   },
   "outputs": [
    {
     "data": {
      "text/plain": [
       "'you? are how Ryan, Hi'"
      ]
     },
     "execution_count": 2,
     "metadata": {},
     "output_type": "execute_result"
    }
   ],
   "source": [
    "rev_words('Hi Ryan, how are you?')"
   ]
  },
  {
   "cell_type": "code",
   "execution_count": 3,
   "metadata": {
    "collapsed": false
   },
   "outputs": [
    {
     "data": {
      "text/plain": [
       "'here space'"
      ]
     },
     "execution_count": 3,
     "metadata": {},
     "output_type": "execute_result"
    }
   ],
   "source": [
    "rev_words('   space here ')"
   ]
  },
  {
   "cell_type": "markdown",
   "metadata": {},
   "source": [
    "## Complexity\n",
    "\n",
    "O(N)"
   ]
  }
 ],
 "metadata": {
  "kernelspec": {
   "display_name": "Python 2",
   "language": "python",
   "name": "python2"
  },
  "language_info": {
   "codemirror_mode": {
    "name": "ipython",
    "version": 2
   },
   "file_extension": ".py",
   "mimetype": "text/x-python",
   "name": "python",
   "nbconvert_exporter": "python",
   "pygments_lexer": "ipython2",
   "version": "2.7.11"
  }
 },
 "nbformat": 4,
 "nbformat_minor": 0
}
