{
 "cells": [
  {
   "cell_type": "markdown",
   "metadata": {},
   "source": [
    "# Pair Sum\n",
    "\n",
    "## Problem\n",
    "\n",
    "Given an array of integers, return the number of unique pairs that sum up to a specific value **k**.\n",
    "\n",
    "Given the following input:\n",
    "    \n",
    "    pair_sum([1,3,2,2],3)\n",
    "\n",
    "would return **2** because the followings are the pairs that sum up to 4:\n",
    "\n",
    "     (1,3)\n",
    "     (2,2)\n",
    "\n"
   ]
  },
  {
   "cell_type": "code",
   "execution_count": 12,
   "metadata": {
    "collapsed": true
   },
   "outputs": [],
   "source": [
    "def pair_sum(arr, k):\n",
    "    \n",
    "    # The input array should have at least 2 elements\n",
    "    if len(arr) < 2:\n",
    "        return\n",
    "    \n",
    "    track = set()\n",
    "    output = set()\n",
    "    \n",
    "    for num in arr:\n",
    "        \n",
    "        # The target value of the num value\n",
    "        target = k - num\n",
    "        \n",
    "        # If the target has not been seen, add the num to the track set\n",
    "        if target not in track:\n",
    "            track.add(num)\n",
    "            \n",
    "        else:\n",
    "            # The output is the set of unique pairs\n",
    "            output.add((min(num, target), max(num, target)))\n",
    "            \n",
    "    return len(output)"
   ]
  },
  {
   "cell_type": "code",
   "execution_count": 13,
   "metadata": {
    "collapsed": false
   },
   "outputs": [
    {
     "data": {
      "text/plain": [
       "2"
      ]
     },
     "execution_count": 13,
     "metadata": {},
     "output_type": "execute_result"
    }
   ],
   "source": [
    "pair_sum([1,3,2,2],4)"
   ]
  },
  {
   "cell_type": "markdown",
   "metadata": {},
   "source": [
    "## Complexity\n",
    "\n",
    "We scan the input array one time that takes O(N) complexity. The insertion and finding operations of a set take both constant time, O(1). So, the complexity becomes O(N) in total."
   ]
  }
 ],
 "metadata": {
  "kernelspec": {
   "display_name": "Python 2",
   "language": "python",
   "name": "python2"
  },
  "language_info": {
   "codemirror_mode": {
    "name": "ipython",
    "version": 2
   },
   "file_extension": ".py",
   "mimetype": "text/x-python",
   "name": "python",
   "nbconvert_exporter": "python",
   "pygments_lexer": "ipython2",
   "version": "2.7.11"
  }
 },
 "nbformat": 4,
 "nbformat_minor": 0
}
