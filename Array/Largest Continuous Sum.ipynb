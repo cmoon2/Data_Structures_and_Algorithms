{
 "cells": [
  {
   "cell_type": "markdown",
   "metadata": {},
   "source": [
    "# Largest Continuous Sum\n",
    "\n",
    "## Problem\n",
    "Given an array of integers, find the largest continuous sum. Note that the input array may include negative values as well as positive integers.\n",
    "\n"
   ]
  },
  {
   "cell_type": "code",
   "execution_count": 10,
   "metadata": {
    "collapsed": false
   },
   "outputs": [],
   "source": [
    "def large_cont_sum(arr): \n",
    "    \n",
    "    # Check if the length of the input array is 0\n",
    "    if len(arr) == 0: \n",
    "        return 0\n",
    "    \n",
    "    # Initialize the max and current sum with the first element\n",
    "    max_sum = arr[0]\n",
    "    cur_sum = arr[0] \n",
    "    \n",
    "    for num in arr[1:]: \n",
    "        \n",
    "        # Set current sum as the higher between the current num and (current sum + current num)\n",
    "        cur_sum = max(num, cur_sum + num)\n",
    "        \n",
    "        # Set max sum as the higher between the current max and the current sum\n",
    "        max_sum = max(max_sum, cur_sum) \n",
    "        \n",
    "    return max_sum "
   ]
  },
  {
   "cell_type": "code",
   "execution_count": 11,
   "metadata": {
    "collapsed": false
   },
   "outputs": [
    {
     "data": {
      "text/plain": [
       "30"
      ]
     },
     "execution_count": 11,
     "metadata": {},
     "output_type": "execute_result"
    }
   ],
   "source": [
    "large_cont_sum([3,2,-1,3,4,9,10,-10,-11, 2])"
   ]
  },
  {
   "cell_type": "markdown",
   "metadata": {},
   "source": [
    "## Complexity\n",
    "\n",
    "O(N)"
   ]
  }
 ],
 "metadata": {
  "kernelspec": {
   "display_name": "Python 2",
   "language": "python",
   "name": "python2"
  },
  "language_info": {
   "codemirror_mode": {
    "name": "ipython",
    "version": 2
   },
   "file_extension": ".py",
   "mimetype": "text/x-python",
   "name": "python",
   "nbconvert_exporter": "python",
   "pygments_lexer": "ipython2",
   "version": "2.7.11"
  }
 },
 "nbformat": 4,
 "nbformat_minor": 0
}
