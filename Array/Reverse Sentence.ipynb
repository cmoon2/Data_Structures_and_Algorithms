{
 "cells": [
  {
   "cell_type": "markdown",
   "metadata": {},
   "source": [
    "# Reverse a Sentence\n",
    "\n",
    "## Problem\n",
    "\n",
    "Reverse all the words in a given sentence. For example:\n",
    "\n",
    "Input:\n",
    "    \n",
    "    'Hi Ryan, how are you?'\n",
    "\n",
    "Output:\n",
    "\n",
    "    \"you? are how Ryan, Hi\"\n",
    "\n",
    "\n",
    "\n",
    "Note:\n",
    "Please, remove all leading and trailing whitespaces. For example:\n",
    "\n",
    "    '   space here'  and 'space here   '\n",
    "\n",
    "both become:\n",
    "\n",
    "    'here space'\n",
    "\n",
    "## Solution\n"
   ]
  },
  {
   "cell_type": "code",
   "execution_count": 93,
   "metadata": {
    "collapsed": true
   },
   "outputs": [],
   "source": [
    "def rev_sent(input_str):\n",
    "    \n",
    "    # Current word\n",
    "    word = \"\"\n",
    "    # A list of words\n",
    "    words = []\n",
    "    \n",
    "    # For each letter of the input sentence in reversed direction\n",
    "    for l in input_str[::-1]:\n",
    "        if l == ' ':\n",
    "            if word != \"\":\n",
    "                words.append(word[::-1])\n",
    "                word = \"\"\n",
    "        else:\n",
    "            word += l\n",
    "            \n",
    "    if word != \"\":\n",
    "        words.append(word[::-1])\n",
    "        \n",
    "    # Output sentence\n",
    "    return \" \".join(words)\n",
    "    \n"
   ]
  },
  {
   "cell_type": "code",
   "execution_count": 94,
   "metadata": {
    "collapsed": false
   },
   "outputs": [
    {
     "data": {
      "text/plain": [
       "'you? are how Ryan, Hi'"
      ]
     },
     "execution_count": 94,
     "metadata": {},
     "output_type": "execute_result"
    }
   ],
   "source": [
    "rev_sent('Hi Ryan, how are you?')"
   ]
  },
  {
   "cell_type": "code",
   "execution_count": 95,
   "metadata": {
    "collapsed": false
   },
   "outputs": [
    {
     "data": {
      "text/plain": [
       "'here space'"
      ]
     },
     "execution_count": 95,
     "metadata": {},
     "output_type": "execute_result"
    }
   ],
   "source": [
    "rev_sent('   space here ')"
   ]
  },
  {
   "cell_type": "markdown",
   "metadata": {},
   "source": [
    "## Complexity\n",
    "\n",
    "O(N)"
   ]
  }
 ],
 "metadata": {
  "kernelspec": {
   "display_name": "Python 2",
   "language": "python",
   "name": "python2"
  },
  "language_info": {
   "codemirror_mode": {
    "name": "ipython",
    "version": 2
   },
   "file_extension": ".py",
   "mimetype": "text/x-python",
   "name": "python",
   "nbconvert_exporter": "python",
   "pygments_lexer": "ipython2",
   "version": "2.7.11"
  }
 },
 "nbformat": 4,
 "nbformat_minor": 0
}
